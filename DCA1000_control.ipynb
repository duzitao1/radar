{
 "cells": [
  {
   "cell_type": "code",
   "execution_count": 1,
   "metadata": {},
   "outputs": [
    {
     "data": {
      "text/plain": [
       "<Popen: returncode: None args: 'mmWaveStudio.exe /lua ..\\\\..\\\\..\\\\Scripts\\\\l...>"
      ]
     },
     "execution_count": 1,
     "metadata": {},
     "output_type": "execute_result"
    }
   ],
   "source": [
    "import subprocess\n",
    "\n",
    "dir_path = \"mmwave_studio_02_01_01_00\\\\mmWaveStudio\\\\RunTime\"\n",
    "cmd = \"dir\"\n",
    "\n",
    "# 打开CMD并执行命令\n",
    "subprocess.Popen(\"mmWaveStudio.exe /lua ..\\\\..\\\\..\\\\Scripts\\\\lua\\\\AIOStart.lua\", cwd=dir_path, stdin=subprocess.PIPE, stdout=subprocess.PIPE, stderr=subprocess.PIPE, shell=True)"
   ]
  },
  {
   "cell_type": "code",
   "execution_count": 53,
   "metadata": {},
   "outputs": [],
   "source": [
    "import matlab.engine\n",
    "eng = matlab.engine.start_matlab()  # 启动matlab引擎"
   ]
  },
  {
   "cell_type": "code",
   "execution_count": 57,
   "metadata": {},
   "outputs": [
    {
     "name": "stdout",
     "output_type": "stream",
     "text": [
      "MATLAB Error: 无法将当前文件夹更改为 'K:\\aio_radar\\Scripts\\matlab\\Scripts\\matlab' (名称不存在或不是文件夹)。\n",
      "\n"
     ]
    }
   ],
   "source": [
    "# 连接到MATLAB引擎\n",
    "try:\n",
    "    #将MATLAB的当前工作目录更改为指定的路径\n",
    "    eng.cd(r'Scripts\\matlab', nargout=0)\n",
    "    #调用MATLAB中的main文件\n",
    "    eng.main(nargout=0)\n",
    "except matlab.engine.MatlabExecutionError as e:\n",
    "    print(\"MATLAB Error:\", e)\n",
    "finally:\n",
    "    # eng.quit()\n",
    "    pass\n",
    "\n",
    "\n"
   ]
  },
  {
   "cell_type": "code",
   "execution_count": 70,
   "metadata": {},
   "outputs": [],
   "source": [
    "eng.main(nargout=0)"
   ]
  },
  {
   "cell_type": "code",
   "execution_count": 98,
   "metadata": {},
   "outputs": [
    {
     "data": {
      "text/plain": [
       "(30000,\n",
       " 'ar1.CaptureCardConfig_StartRecord(\"K:\\\\\\\\aio_radar\\\\\\\\out\\\\\\\\1.bin\", 1); ar1.StartFrame();')"
      ]
     },
     "execution_count": 98,
     "metadata": {},
     "output_type": "execute_result"
    }
   ],
   "source": [
    "# eng.start_record(\"K:/aio_radar/out/data.bin\",nargout=2)\n",
    "\n",
    "file_number = 1\n",
    "file_path = f\"K:\\\\\\\\aio_radar\\\\\\\\out\\\\\\\\{file_number}.bin\"\n",
    "\n",
    "eng.start_record(file_path,nargout=2)"
   ]
  },
  {
   "cell_type": "code",
   "execution_count": 106,
   "metadata": {},
   "outputs": [],
   "source": [
    "import tkinter as tk\n",
    "\n",
    "def on_button_click():\n",
    "    global cnt\n",
    "    file_path = f\"K:\\\\\\\\aio_radar\\\\\\\\out\\\\\\\\{cnt}.bin\"\n",
    "    \n",
    "    eng.start_record(file_path,nargout=2)\n",
    "    cnt += 1\n",
    "    label.config(text=\"当前手势编号: \" + str(cnt))\n",
    "\n",
    "def update_counter():\n",
    "    global cnt\n",
    "    new_value = int(entry.get())\n",
    "    cnt = new_value\n",
    "    label.config(text=\"当前手势序号: \" + str(cnt))\n",
    "    entry.delete(0, tk.END)\n",
    "\n",
    "# 创建主窗口\n",
    "root = tk.Tk()\n",
    "root.title(\"Tkinter Demo\")\n",
    "# 设置窗口大小\n",
    "root.geometry(\"300x300\")\n",
    "\n",
    "# 设置初始计数器值\n",
    "cnt = 1\n",
    "\n",
    "# 创建标签并显示计数器值\n",
    "label = tk.Label(root, text=\"当前手势序号: \" + str(cnt))\n",
    "label.pack(pady=10)\n",
    "\n",
    "# 创建按钮\n",
    "button = tk.Button(root, text=\"开始采集\", command=on_button_click)\n",
    "button.pack()\n",
    "\n",
    "# 创建文本输入框\n",
    "entry = tk.Entry(root)\n",
    "entry.pack()\n",
    "\n",
    "# 创建修改计数器按钮\n",
    "update_button = tk.Button(root, text=\"更新计数器\", command=update_counter)\n",
    "update_button.pack()\n",
    "\n",
    "# 运行主循环\n",
    "root.mainloop()\n"
   ]
  },
  {
   "cell_type": "code",
   "execution_count": 117,
   "metadata": {},
   "outputs": [],
   "source": [
    "import tkinter as tk\n",
    "\n",
    "def on_button_click():\n",
    "    global cnt\n",
    "    # file_path = f\"K:\\\\\\\\aio_radar\\\\\\\\out\\\\\\\\{cnt}.bin\"\n",
    "    file_path = f\"K:\\\\\\\\dataset\\\\\\\\2024_3_11\\\\\\\\3\\\\\\\\{cnt}.bin\"\n",
    "    \n",
    "    eng.start_record(file_path, nargout=2)\n",
    "    cnt += 1\n",
    "    label.config(text=\"当前手势序号: \" + str(cnt))\n",
    "\n",
    "def update_counter():\n",
    "    global cnt\n",
    "    new_value = int(entry.get())\n",
    "    cnt = new_value\n",
    "    label.config(text=\"当前手势序号: \" + str(cnt))\n",
    "    entry.delete(0, tk.END)\n",
    "\n",
    "def previous_gesture():\n",
    "    global cnt\n",
    "    if cnt > 1:\n",
    "        cnt -= 1\n",
    "        label.config(text=\"当前手势序号: \" + str(cnt))\n",
    "\n",
    "def next_gesture():\n",
    "    global cnt\n",
    "    cnt += 1\n",
    "    label.config(text=\"当前手势序号: \" + str(cnt))\n",
    "\n",
    "# 创建主窗口\n",
    "root = tk.Tk()\n",
    "root.title(\"Tkinter Demo\")\n",
    "\n",
    "# 设置窗口大小和布局\n",
    "root.geometry(\"300x200\")\n",
    "root.columnconfigure(0, weight=1)\n",
    "\n",
    "# 设置初始计数器值\n",
    "cnt = 1\n",
    "\n",
    "# 创建标签并显示计数器值\n",
    "label = tk.Label(root, text=\"当前手势序号: \" + str(cnt))\n",
    "label.grid(row=0, column=1, padx=10, pady=10)\n",
    "\n",
    "# 创建按钮\n",
    "button = tk.Button(root, text=\"开始采集\", command=on_button_click)\n",
    "button.grid(row=1, column=1, padx=10, pady=5)\n",
    "\n",
    "# 创建文本输入框和标签\n",
    "entry_label = tk.Label(root, text=\"请输入新的手势序号:\")\n",
    "entry_label.grid(row=0, column=0, padx=10, pady=5)\n",
    "entry = tk.Entry(root)\n",
    "entry.grid(row=1, column=0, padx=10, pady=5)\n",
    "\n",
    "# 创建修改计数器按钮\n",
    "update_button = tk.Button(root, text=\"更新计数器\", command=update_counter)\n",
    "update_button.grid(row=4, column=0, padx=10, pady=5)\n",
    "\n",
    "# 创建按钮用于前后导航手势\n",
    "prev_button = tk.Button(root, text=\"上一个手势\", command=previous_gesture)\n",
    "prev_button.grid(row=2, column=0, padx=10, pady=5)\n",
    "\n",
    "next_button = tk.Button(root, text=\"下一个手势\", command=next_gesture)\n",
    "next_button.grid(row=3, column=0, padx=10, pady=5)\n",
    "\n",
    "# 运行主循环\n",
    "root.mainloop()\n"
   ]
  }
 ],
 "metadata": {
  "kernelspec": {
   "display_name": "Python 3",
   "language": "python",
   "name": "python3"
  },
  "language_info": {
   "codemirror_mode": {
    "name": "ipython",
    "version": 3
   },
   "file_extension": ".py",
   "mimetype": "text/x-python",
   "name": "python",
   "nbconvert_exporter": "python",
   "pygments_lexer": "ipython3",
   "version": "3.9.18"
  }
 },
 "nbformat": 4,
 "nbformat_minor": 2
}
