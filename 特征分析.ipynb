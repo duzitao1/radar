{
 "cells": [
  {
   "cell_type": "code",
   "execution_count": 16,
   "metadata": {},
   "outputs": [
    {
     "name": "stdout",
     "output_type": "stream",
     "text": [
      "dict_keys(['__header__', '__version__', '__globals__', 'range_profile', 'speed_profile', 'angle_profile'])\n",
      "dict_keys(['__header__', '__version__', '__globals__', 'range_profile', 'speed_profile', 'angle_profile'])\n",
      "(1600, 30, 64)\n",
      "(1600, 30, 64)\n",
      "(1600, 30, 64)\n",
      "dict_keys(['__header__', '__version__', '__globals__', 'range_profile', 'speed_profile', 'angle_profile'])\n",
      "dict_keys(['__header__', '__version__', '__globals__', 'range_profile', 'speed_profile', 'angle_profile'])\n",
      "(1600, 30, 64)\n",
      "(1600, 30, 64)\n",
      "(1600, 30, 64)\n",
      "dict_keys(['__header__', '__version__', '__globals__', 'range_profile', 'speed_profile', 'angle_profile'])\n",
      "dict_keys(['__header__', '__version__', '__globals__', 'range_profile', 'speed_profile', 'angle_profile'])\n",
      "(1600, 30, 64)\n",
      "(1600, 30, 64)\n",
      "(1600, 30, 64)\n",
      "dict_keys(['__header__', '__version__', '__globals__', 'range_profile', 'speed_profile', 'angle_profile'])\n",
      "dict_keys(['__header__', '__version__', '__globals__', 'range_profile', 'speed_profile', 'angle_profile'])\n",
      "(1600, 30, 64)\n",
      "(1600, 30, 64)\n",
      "(1600, 30, 64)\n"
     ]
    }
   ],
   "source": [
    "import scipy.io as sio\n",
    "import numpy as np\n",
    "\n",
    "classes = 4\n",
    "\n",
    "for i in range(1,classes+1):\n",
    "\n",
    "    file_name1 = f'K:\\\\aio_radar\\\\out\\\\test\\\\pyfeature\\\\{classes}.mat'\n",
    "    file_name2 = f'K:\\\\aio_radar\\\\out\\\\{classes}.mat'\n",
    "    data = sio.loadmat(file_name1)\n",
    "    print(data.keys())#dict_keys(['__header__', '__version__', '__globals__', 'range_profile', 'speed_profile', 'angle_profile'])\n",
    "    range_profile1 = data['range_profile']\n",
    "    speed_profile1 = data['speed_profile']\n",
    "    angle_profile1 = data['angle_profile']\n",
    "    data = sio.loadmat(file_name2)\n",
    "    print(data.keys())#dict_keys(['__header__', '__version__', '__globals__', 'range_profile', 'speed_profile', 'angle_profile'])\n",
    "    range_profile2 = data['range_profile']\n",
    "    speed_profile2 = data['speed_profile']\n",
    "    angle_profile2 = data['angle_profile']\n",
    "    range_profile = np.concatenate((range_profile1,range_profile2),axis=0)\n",
    "    speed_profile = np.concatenate((speed_profile1,speed_profile2),axis=0)\n",
    "    angle_profile = np.concatenate((angle_profile1,angle_profile2),axis=0)\n",
    "\n",
    "    print(range_profile.shape)\n",
    "    print(speed_profile.shape)\n",
    "    print(angle_profile.shape)\n",
    "\n",
    "    sio.savemat(f'K:\\\\aio_radar\\\\out\\\\com\\\\{classes}.mat', {'range_profile': range_profile, 'speed_profile': speed_profile, 'angle_profile': angle_profile})"
   ]
  }
 ],
 "metadata": {
  "kernelspec": {
   "display_name": "Python 3",
   "language": "python",
   "name": "python3"
  },
  "language_info": {
   "codemirror_mode": {
    "name": "ipython",
    "version": 3
   },
   "file_extension": ".py",
   "mimetype": "text/x-python",
   "name": "python",
   "nbconvert_exporter": "python",
   "pygments_lexer": "ipython3",
   "version": "3.9.18"
  }
 },
 "nbformat": 4,
 "nbformat_minor": 2
}
