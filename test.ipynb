{
 "cells": [
  {
   "cell_type": "code",
   "execution_count": 14,
   "metadata": {},
   "outputs": [
    {
     "name": "stdout",
     "output_type": "stream",
     "text": [
      "Running on local URL:  http://127.0.0.1:7872\n",
      "\n",
      "To create a public link, set `share=True` in `launch()`.\n"
     ]
    },
    {
     "data": {
      "text/html": [
       "<div><iframe src=\"http://127.0.0.1:7872/\" width=\"100%\" height=\"500\" allow=\"autoplay; camera; microphone; clipboard-read; clipboard-write;\" frameborder=\"0\" allowfullscreen></iframe></div>"
      ],
      "text/plain": [
       "<IPython.core.display.HTML object>"
      ]
     },
     "metadata": {},
     "output_type": "display_data"
    },
    {
     "data": {
      "text/plain": []
     },
     "execution_count": 14,
     "metadata": {},
     "output_type": "execute_result"
    },
    {
     "name": "stderr",
     "output_type": "stream",
     "text": [
      "ERROR:    Exception in ASGI application\n",
      "Traceback (most recent call last):\n",
      "  File \"k:\\aio_radar\\.conda\\lib\\site-packages\\uvicorn\\protocols\\http\\h11_impl.py\", line 408, in run_asgi\n",
      "    result = await app(  # type: ignore[func-returns-value]\n",
      "  File \"k:\\aio_radar\\.conda\\lib\\site-packages\\uvicorn\\middleware\\proxy_headers.py\", line 84, in __call__\n",
      "    return await self.app(scope, receive, send)\n",
      "  File \"k:\\aio_radar\\.conda\\lib\\site-packages\\fastapi\\applications.py\", line 1106, in __call__\n",
      "    await super().__call__(scope, receive, send)\n",
      "  File \"k:\\aio_radar\\.conda\\lib\\site-packages\\starlette\\applications.py\", line 122, in __call__\n",
      "    await self.middleware_stack(scope, receive, send)\n",
      "  File \"k:\\aio_radar\\.conda\\lib\\site-packages\\starlette\\middleware\\errors.py\", line 184, in __call__\n",
      "    raise exc\n",
      "  File \"k:\\aio_radar\\.conda\\lib\\site-packages\\starlette\\middleware\\errors.py\", line 162, in __call__\n",
      "    await self.app(scope, receive, _send)\n",
      "  File \"k:\\aio_radar\\.conda\\lib\\site-packages\\starlette\\middleware\\cors.py\", line 91, in __call__\n",
      "    await self.simple_response(scope, receive, send, request_headers=headers)\n",
      "  File \"k:\\aio_radar\\.conda\\lib\\site-packages\\starlette\\middleware\\cors.py\", line 146, in simple_response\n",
      "    await self.app(scope, receive, send)\n",
      "  File \"k:\\aio_radar\\.conda\\lib\\site-packages\\starlette\\middleware\\exceptions.py\", line 79, in __call__\n",
      "    raise exc\n",
      "  File \"k:\\aio_radar\\.conda\\lib\\site-packages\\starlette\\middleware\\exceptions.py\", line 68, in __call__\n",
      "    await self.app(scope, receive, sender)\n",
      "  File \"k:\\aio_radar\\.conda\\lib\\site-packages\\fastapi\\middleware\\asyncexitstack.py\", line 20, in __call__\n",
      "    raise e\n",
      "  File \"k:\\aio_radar\\.conda\\lib\\site-packages\\fastapi\\middleware\\asyncexitstack.py\", line 17, in __call__\n",
      "    await self.app(scope, receive, send)\n",
      "  File \"k:\\aio_radar\\.conda\\lib\\site-packages\\starlette\\routing.py\", line 718, in __call__\n",
      "    await route.handle(scope, receive, send)\n",
      "  File \"k:\\aio_radar\\.conda\\lib\\site-packages\\starlette\\routing.py\", line 276, in handle\n",
      "    await self.app(scope, receive, send)\n",
      "  File \"k:\\aio_radar\\.conda\\lib\\site-packages\\starlette\\routing.py\", line 66, in app\n",
      "    response = await func(request)\n",
      "  File \"k:\\aio_radar\\.conda\\lib\\site-packages\\fastapi\\routing.py\", line 274, in app\n",
      "    raw_response = await run_endpoint_function(\n",
      "  File \"k:\\aio_radar\\.conda\\lib\\site-packages\\fastapi\\routing.py\", line 193, in run_endpoint_function\n",
      "    return await run_in_threadpool(dependant.call, **values)\n",
      "  File \"k:\\aio_radar\\.conda\\lib\\site-packages\\starlette\\concurrency.py\", line 41, in run_in_threadpool\n",
      "    return await anyio.to_thread.run_sync(func, *args)\n",
      "  File \"k:\\aio_radar\\.conda\\lib\\site-packages\\anyio\\to_thread.py\", line 33, in run_sync\n",
      "    return await get_asynclib().run_sync_in_worker_thread(\n",
      "  File \"k:\\aio_radar\\.conda\\lib\\site-packages\\anyio\\_backends\\_asyncio.py\", line 877, in run_sync_in_worker_thread\n",
      "    return await future\n",
      "  File \"k:\\aio_radar\\.conda\\lib\\site-packages\\anyio\\_backends\\_asyncio.py\", line 807, in run\n",
      "    result = context.run(func, *args)\n",
      "  File \"k:\\aio_radar\\.conda\\lib\\site-packages\\gradio\\routes.py\", line 681, in component_server\n",
      "    return fn(body.data)\n",
      "  File \"k:\\aio_radar\\.conda\\lib\\site-packages\\gradio\\components\\file_explorer.py\", line 193, in ls\n",
      "    files += glob_func(result, recursive=True, root_dir=self.root)  # type: ignore\n",
      "TypeError: glob() got an unexpected keyword argument 'root_dir'\n"
     ]
    }
   ],
   "source": [
    "# 生成示例数据\n",
    "import gradio as gr\n",
    "import subprocess\n",
    "import os\n",
    "\n",
    "import matlab.engine\n",
    "\n",
    "\n",
    "# 启动雷达\n",
    "def start_radar():\n",
    "    dir_path = \"mmwave_studio_02_01_01_00\\\\mmWaveStudio\\\\RunTime\"\n",
    "    # 打开CMD并执行命令\n",
    "    subprocess.Popen(\"mmWaveStudio.exe /lua K:\\\\aio_radar\\\\Scripts\\\\lua\\\\AIOStart.lua\", cwd=dir_path, stdin=subprocess.PIPE, stdout=subprocess.PIPE, stderr=subprocess.PIPE, shell=True)\n",
    "\n",
    "# 修改数据集路径后\n",
    "\n",
    "def read_file(file):\n",
    "    # 获取文件所在目录\n",
    "    dataset_path = os.path.dirname(file)\n",
    "    dataset_path = file\n",
    "    \n",
    "    return dataset_path\n",
    "\n",
    "def upload_file(file):\n",
    "    # 获取文件所在目录\n",
    "    dataset_path = os.path.dirname(file.name)\n",
    "    dataset_path = file.name\n",
    "    \n",
    "    return dataset_path\n",
    "\n",
    "# 数据集文件路径\n",
    "dataset_path = \"./dataset/\"\n",
    "\n",
    "# eng = matlab.engine.start_matlab()  # 启动matlab引擎\n",
    "\n",
    "\n",
    "\n",
    "with gr.Blocks() as demo:\n",
    "    gr.Markdown(\"# 毫米波雷达数据采集系统\")\n",
    "    with gr.Row():\n",
    "        with gr.Column():\n",
    "            gr.Textbox(\"\",label=\"数据集路径：\")\n",
    "            gr.Dropdown([\"0\", \"1\", \"2\", \"3\", \"4\", \"5\", \"6\", \"7\"], label=\"手势类别：\")\n",
    "            gr.Button(\"启动雷达\")\n",
    "        with gr.Column():\n",
    "            gr.Textbox(\"\",label=\"当前手势序号：\")\n",
    "            gr.Button(\"开始采集\")\n",
    "        with gr.Column():\n",
    "            gr.FileExplorer(label=\"已经采集好的数据集:\")\n",
    "\n",
    "        \n",
    "\n",
    "demo.launch()"
   ]
  },
  {
   "cell_type": "code",
   "execution_count": 4,
   "metadata": {},
   "outputs": [],
   "source": [
    "# 以下是一个简单的GUI界面\n",
    "import customtkinter\n",
    "import gradio as gr\n",
    "import subprocess\n",
    "import os\n",
    "\n",
    "import matlab.engine\n",
    "class App(customtkinter.CTk):\n",
    "    def __init__(self):\n",
    "        super().__init__()\n",
    "\n",
    "        self.title(\"毫米波雷达数据采集系统\")\n",
    "        self.geometry(\"400x400\")\n",
    "        self.grid_columnconfigure(0, weight=1)\n",
    "        self.grid_rowconfigure((0, 1), weight=1)\n",
    "\n",
    "\n",
    "        # self.checkbox_1 = customtkinter.CTkCheckBox(self, text=\"checkbox 1\")\n",
    "        # self.checkbox_1.grid(row=0, column=0, padx=10, pady=(10, 0), sticky=\"w\")\n",
    "        \n",
    "        # self.checkbox_2 = customtkinter.CTkCheckBox(self, text=\"checkbox 2\")\n",
    "        # self.checkbox_2.grid(row=1, column=0, padx=10, pady=(10, 0), sticky=\"w\")\n",
    "        \n",
    "        self.button = customtkinter.CTkButton(self, text=\"启动雷达\", command=self.start_radar)\n",
    "        self.button.grid(row=0, column=0,padx=0, pady=(0, 0), sticky=\"w\")\n",
    "        \n",
    "        # 文件夹选择器\n",
    "        \n",
    "        \n",
    "        self.grid_columnconfigure(0, weight=1)\n",
    "        self.grid_columnconfigure(1, weight=1)\n",
    "        self.grid_columnconfigure(2, weight=1)\n",
    "        \n",
    "        # 启动雷达\n",
    "    def start_radar(self):\n",
    "        dir_path = \"mmwave_studio_02_01_01_00\\\\mmWaveStudio\\\\RunTime\"\n",
    "        # 打开CMD并执行命令\n",
    "        subprocess.Popen(\"mmWaveStudio.exe /lua K:\\\\aio_radar\\\\Scripts\\\\lua\\\\AIOStart.lua\", cwd=dir_path, stdin=subprocess.PIPE, stdout=subprocess.PIPE, stderr=subprocess.PIPE, shell=True)\n",
    "        print(\"雷达已启动\")\n",
    "\n",
    "app = App()\n",
    "app.mainloop()"
   ]
  },
  {
   "cell_type": "code",
   "execution_count": 3,
   "metadata": {},
   "outputs": [],
   "source": [
    "# 文件夹选择器\n",
    "from tkinter import *\n",
    "from tkinter.filedialog import askdirectory\n",
    "\n",
    "def selectPath():\n",
    "    path_ = askdirectory()\n",
    "    path.set(path_)\n",
    "\n",
    "root = Tk()\n",
    "path = StringVar()\n",
    "\n",
    "def show_selected_path():\n",
    "    selected_path_label.config(text=path.get())\n",
    "\n",
    "Label(root, text=\"目标路径:\").grid(row=0, column=0)\n",
    "Entry(root, textvariable=path).grid(row=0, column=1)\n",
    "Button(root, text=\"路径选择\", command=selectPath).grid(row=0, column=2)\n",
    "Button(root, text=\"显示已选择的路径\", command=show_selected_path).grid(row=1, columnspan=3)\n",
    "selected_path_label = Label(root, text=\"\")\n",
    "selected_path_label.grid(row=2, columnspan=3)\n",
    "\n",
    "root.mainloop()\n"
   ]
  },
  {
   "cell_type": "code",
   "execution_count": 2,
   "metadata": {},
   "outputs": [
    {
     "name": "stdout",
     "output_type": "stream",
     "text": [
      "文件不同\n"
     ]
    }
   ],
   "source": [
    "# 比较两个文件是否相同\n",
    "file1 = \"K:/手势识别数据集/2/2_5_Raw_0.bin\"\n",
    "file1 = \"K:/手势识别数据集/2/2_6_Raw_0.bin\"\n",
    "\n",
    "file2 = \"data.bin\"\n",
    "\n",
    "with open(file1, 'rb') as f1, open(file2, 'rb') as f2:\n",
    "    if f1.read() == f2.read():\n",
    "        print(\"文件相同\")\n",
    "    else:\n",
    "        print(\"文件不同\")\n"
   ]
  },
  {
   "cell_type": "code",
   "execution_count": null,
   "metadata": {},
   "outputs": [],
   "source": []
  }
 ],
 "metadata": {
  "kernelspec": {
   "display_name": "Python 3",
   "language": "python",
   "name": "python3"
  },
  "language_info": {
   "codemirror_mode": {
    "name": "ipython",
    "version": 3
   },
   "file_extension": ".py",
   "mimetype": "text/x-python",
   "name": "python",
   "nbconvert_exporter": "python",
   "pygments_lexer": "ipython3",
   "version": "3.9.18"
  }
 },
 "nbformat": 4,
 "nbformat_minor": 2
}
